{
  "cells": [
    {
      "cell_type": "markdown",
      "metadata": {
        "id": "7oT18b7ymv2w"
      },
      "source": [
        "**1. Construcción de la red neuronal convolucional**"
      ]
    },
    {
      "cell_type": "code",
      "execution_count": null,
      "metadata": {
        "id": "H1ILkjVxHO_s"
      },
      "outputs": [],
      "source": [
        "# importación de librerias\n",
        "import tensorflow as tf\n",
        "from keras.models import Sequential\n",
        "from keras.layers import Conv2D\n",
        "from keras.layers import MaxPooling2D\n",
        "from keras.layers import Flatten\n",
        "from keras.layers import Dense\n",
        "from keras.preprocessing.image import ImageDataGenerator\n",
        "import keras.utils\n",
        "from keras import utils as np_utils\n",
        "import matplotlib.pyplot as plt"
      ]
    },
    {
      "cell_type": "code",
      "execution_count": null,
      "metadata": {
        "id": "9-s6UsGSMBIF"
      },
      "outputs": [],
      "source": [
        "# Inicializar la red\n",
        "rnc = Sequential()"
      ]
    },
    {
      "cell_type": "code",
      "execution_count": null,
      "metadata": {
        "id": "2ZxckR7JT1dy"
      },
      "outputs": [],
      "source": [
        "# Convolución\n",
        "rnc.add(Conv2D(filters = 32, kernel_size = (3, 3), \n",
        "                      input_shape = (32, 32, 3), activation = \"relu\"))"
      ]
    },
    {
      "cell_type": "code",
      "execution_count": null,
      "metadata": {
        "id": "YR6thpEoY-Ma"
      },
      "outputs": [],
      "source": [
        "# Capa de entrada\n",
        "rnc.add(Flatten())"
      ]
    },
    {
      "cell_type": "code",
      "execution_count": null,
      "metadata": {
        "id": "Q3X-OIcvT1F_"
      },
      "outputs": [],
      "source": [
        "# Capas ocultas\n",
        "rnc.add(Dense(units = 128, activation = \"relu\"))\n",
        "rnc.add(Dense(units = 64, activation = \"relu\"))"
      ]
    },
    {
      "cell_type": "code",
      "execution_count": null,
      "metadata": {
        "id": "wRN0hvH1T02o"
      },
      "outputs": [],
      "source": [
        "# Capa de salida\n",
        "rnc.add(Dense(units = 10, activation = \"softmax\"))"
      ]
    },
    {
      "cell_type": "code",
      "execution_count": null,
      "metadata": {
        "id": "idd2xMqfT0fp"
      },
      "outputs": [],
      "source": [
        "# Compilación de la red\n",
        "rnc.compile(optimizer = \"SGD\", loss = \"categorical_crossentropy\", metrics = [\"accuracy\"])"
      ]
    },
    {
      "cell_type": "markdown",
      "metadata": {
        "id": "ACmPQACDKnDA"
      },
      "source": [
        "**2. Entrenamiento de la red**"
      ]
    },
    {
      "cell_type": "code",
      "source": [
        "# Preprocesamiento de datos (imagenes)\n",
        "(x_train, y_train), (x_test, y_test) = tf.keras.datasets.cifar10.load_data()\n",
        "y_train = keras.utils.np_utils.to_categorical(y_train)\n",
        "y_test = keras.utils.np_utils.to_categorical(y_test)\n",
        "\n",
        "datagen = ImageDataGenerator(rescale = 1./255,\n",
        "    featurewise_center=True,\n",
        "    featurewise_std_normalization=True,\n",
        "    rotation_range=20,\n",
        "    width_shift_range=0.2,\n",
        "    height_shift_range=0.2,\n",
        "    horizontal_flip=True,\n",
        "    validation_split=0.2\n",
        "    )"
      ],
      "metadata": {
        "id": "AtWr567cbxZU",
        "colab": {
          "base_uri": "https://localhost:8080/"
        },
        "outputId": "f2d3e242-0eae-404c-d6b4-205aa71d3859"
      },
      "execution_count": null,
      "outputs": [
        {
          "output_type": "stream",
          "name": "stdout",
          "text": [
            "Downloading data from https://www.cs.toronto.edu/~kriz/cifar-10-python.tar.gz\n",
            "170500096/170498071 [==============================] - 2s 0us/step\n",
            "170508288/170498071 [==============================] - 2s 0us/step\n"
          ]
        }
      ]
    },
    {
      "cell_type": "code",
      "source": [
        "# Entrenamiento\n",
        "datagen.fit(x_train)\n",
        "\n",
        "rnc.fit(datagen.flow(x_train, y_train, batch_size = 16,\n",
        "         subset='training'),\n",
        "         validation_data=datagen.flow(x_train, y_train,\n",
        "         batch_size = 16, subset='validation'),\n",
        "         steps_per_epoch = len(x_train)/500, epochs=100)"
      ],
      "metadata": {
        "colab": {
          "base_uri": "https://localhost:8080/"
        },
        "id": "Zqp8XJVYeuod",
        "outputId": "1c1a2549-5c58-4cfd-ff81-a7ce703afcba"
      },
      "execution_count": null,
      "outputs": [
        {
          "output_type": "stream",
          "name": "stdout",
          "text": [
            "Epoch 1/100\n",
            "100/100 [==============================] - 15s 142ms/step - loss: 2.1763 - accuracy: 0.1950 - val_loss: 2.0979 - val_accuracy: 0.2208\n",
            "Epoch 2/100\n",
            "100/100 [==============================] - 14s 141ms/step - loss: 2.0458 - accuracy: 0.2631 - val_loss: 2.0001 - val_accuracy: 0.2684\n",
            "Epoch 3/100\n",
            "100/100 [==============================] - 13s 129ms/step - loss: 1.9818 - accuracy: 0.2788 - val_loss: 1.9355 - val_accuracy: 0.3008\n",
            "Epoch 4/100\n",
            "100/100 [==============================] - 13s 129ms/step - loss: 1.9834 - accuracy: 0.2769 - val_loss: 1.9093 - val_accuracy: 0.3117\n",
            "Epoch 5/100\n",
            "100/100 [==============================] - 13s 129ms/step - loss: 1.8919 - accuracy: 0.3225 - val_loss: 1.8717 - val_accuracy: 0.3275\n",
            "Epoch 6/100\n",
            "100/100 [==============================] - 13s 128ms/step - loss: 1.8609 - accuracy: 0.3400 - val_loss: 1.8510 - val_accuracy: 0.3377\n",
            "Epoch 7/100\n",
            "100/100 [==============================] - 14s 141ms/step - loss: 1.8502 - accuracy: 0.3275 - val_loss: 1.8522 - val_accuracy: 0.3167\n",
            "Epoch 8/100\n",
            "100/100 [==============================] - 13s 128ms/step - loss: 1.7987 - accuracy: 0.3575 - val_loss: 1.7884 - val_accuracy: 0.3576\n",
            "Epoch 9/100\n",
            "100/100 [==============================] - 13s 129ms/step - loss: 1.8626 - accuracy: 0.3313 - val_loss: 1.8223 - val_accuracy: 0.3386\n",
            "Epoch 10/100\n",
            "100/100 [==============================] - 13s 129ms/step - loss: 1.8013 - accuracy: 0.3475 - val_loss: 1.7794 - val_accuracy: 0.3492\n",
            "Epoch 11/100\n",
            "100/100 [==============================] - 13s 128ms/step - loss: 1.8014 - accuracy: 0.3338 - val_loss: 1.7884 - val_accuracy: 0.3419\n",
            "Epoch 12/100\n",
            "100/100 [==============================] - 14s 139ms/step - loss: 1.7325 - accuracy: 0.3794 - val_loss: 1.7341 - val_accuracy: 0.3810\n",
            "Epoch 13/100\n",
            "100/100 [==============================] - 14s 140ms/step - loss: 1.7434 - accuracy: 0.3556 - val_loss: 1.7075 - val_accuracy: 0.3895\n",
            "Epoch 14/100\n",
            "100/100 [==============================] - 14s 140ms/step - loss: 1.7714 - accuracy: 0.3569 - val_loss: 1.6889 - val_accuracy: 0.3918\n",
            "Epoch 15/100\n",
            "100/100 [==============================] - 13s 129ms/step - loss: 1.7322 - accuracy: 0.3825 - val_loss: 1.6879 - val_accuracy: 0.3898\n",
            "Epoch 16/100\n",
            "100/100 [==============================] - 13s 128ms/step - loss: 1.6985 - accuracy: 0.3938 - val_loss: 1.6797 - val_accuracy: 0.3908\n",
            "Epoch 17/100\n",
            "100/100 [==============================] - 14s 139ms/step - loss: 1.6406 - accuracy: 0.4069 - val_loss: 1.6953 - val_accuracy: 0.3844\n",
            "Epoch 18/100\n",
            "100/100 [==============================] - 13s 128ms/step - loss: 1.6916 - accuracy: 0.3812 - val_loss: 1.6892 - val_accuracy: 0.3900\n",
            "Epoch 19/100\n",
            "100/100 [==============================] - 13s 129ms/step - loss: 1.6732 - accuracy: 0.4050 - val_loss: 1.7154 - val_accuracy: 0.3853\n",
            "Epoch 20/100\n",
            "100/100 [==============================] - 13s 128ms/step - loss: 1.6595 - accuracy: 0.3950 - val_loss: 1.5967 - val_accuracy: 0.4136\n",
            "Epoch 21/100\n",
            "100/100 [==============================] - 13s 129ms/step - loss: 1.6555 - accuracy: 0.4044 - val_loss: 1.6454 - val_accuracy: 0.4050\n",
            "Epoch 22/100\n",
            "100/100 [==============================] - 13s 132ms/step - loss: 1.6249 - accuracy: 0.4150 - val_loss: 1.5849 - val_accuracy: 0.4285\n",
            "Epoch 23/100\n",
            "100/100 [==============================] - 13s 129ms/step - loss: 1.5816 - accuracy: 0.4356 - val_loss: 1.6074 - val_accuracy: 0.4131\n",
            "Epoch 24/100\n",
            "100/100 [==============================] - 13s 131ms/step - loss: 1.5892 - accuracy: 0.4250 - val_loss: 1.6137 - val_accuracy: 0.4101\n",
            "Epoch 25/100\n",
            "100/100 [==============================] - 13s 130ms/step - loss: 1.6403 - accuracy: 0.3925 - val_loss: 1.6300 - val_accuracy: 0.4064\n",
            "Epoch 26/100\n",
            "100/100 [==============================] - 13s 129ms/step - loss: 1.5987 - accuracy: 0.4306 - val_loss: 1.6447 - val_accuracy: 0.4069\n",
            "Epoch 27/100\n",
            "100/100 [==============================] - 13s 132ms/step - loss: 1.5907 - accuracy: 0.4225 - val_loss: 1.5969 - val_accuracy: 0.4230\n",
            "Epoch 28/100\n",
            "100/100 [==============================] - 13s 129ms/step - loss: 1.6123 - accuracy: 0.4206 - val_loss: 1.6008 - val_accuracy: 0.4228\n",
            "Epoch 29/100\n",
            "100/100 [==============================] - 14s 140ms/step - loss: 1.5960 - accuracy: 0.4125 - val_loss: 1.5828 - val_accuracy: 0.4301\n",
            "Epoch 30/100\n",
            "100/100 [==============================] - 13s 129ms/step - loss: 1.5711 - accuracy: 0.4187 - val_loss: 1.6573 - val_accuracy: 0.4090\n",
            "Epoch 31/100\n",
            "100/100 [==============================] - 13s 129ms/step - loss: 1.5289 - accuracy: 0.4375 - val_loss: 1.6186 - val_accuracy: 0.4116\n",
            "Epoch 32/100\n",
            "100/100 [==============================] - 13s 128ms/step - loss: 1.6098 - accuracy: 0.3981 - val_loss: 1.5797 - val_accuracy: 0.4232\n",
            "Epoch 33/100\n",
            "100/100 [==============================] - 13s 128ms/step - loss: 1.5643 - accuracy: 0.4300 - val_loss: 1.6149 - val_accuracy: 0.4107\n",
            "Epoch 34/100\n",
            "100/100 [==============================] - 13s 132ms/step - loss: 1.5579 - accuracy: 0.4381 - val_loss: 1.5583 - val_accuracy: 0.4281\n",
            "Epoch 35/100\n",
            "100/100 [==============================] - 13s 131ms/step - loss: 1.5780 - accuracy: 0.4244 - val_loss: 1.5660 - val_accuracy: 0.4320\n",
            "Epoch 36/100\n",
            "100/100 [==============================] - 13s 135ms/step - loss: 1.5771 - accuracy: 0.4412 - val_loss: 1.5258 - val_accuracy: 0.4498\n",
            "Epoch 37/100\n",
            "100/100 [==============================] - 14s 140ms/step - loss: 1.5902 - accuracy: 0.4387 - val_loss: 1.5370 - val_accuracy: 0.4456\n",
            "Epoch 38/100\n",
            "100/100 [==============================] - 19s 192ms/step - loss: 1.5531 - accuracy: 0.4550 - val_loss: 1.5800 - val_accuracy: 0.4282\n",
            "Epoch 39/100\n",
            "100/100 [==============================] - 25s 249ms/step - loss: 1.5662 - accuracy: 0.4238 - val_loss: 1.5816 - val_accuracy: 0.4295\n",
            "Epoch 40/100\n",
            "100/100 [==============================] - 14s 138ms/step - loss: 1.5715 - accuracy: 0.4344 - val_loss: 1.5458 - val_accuracy: 0.4415\n",
            "Epoch 41/100\n",
            "100/100 [==============================] - 26s 264ms/step - loss: 1.5464 - accuracy: 0.4350 - val_loss: 1.5585 - val_accuracy: 0.4358\n",
            "Epoch 42/100\n",
            "100/100 [==============================] - 16s 156ms/step - loss: 1.5255 - accuracy: 0.4512 - val_loss: 1.5078 - val_accuracy: 0.4492\n",
            "Epoch 43/100\n",
            "100/100 [==============================] - 16s 161ms/step - loss: 1.5518 - accuracy: 0.4275 - val_loss: 1.5314 - val_accuracy: 0.4483\n",
            "Epoch 44/100\n",
            "100/100 [==============================] - 26s 264ms/step - loss: 1.5633 - accuracy: 0.4194 - val_loss: 1.5204 - val_accuracy: 0.4461\n",
            "Epoch 45/100\n",
            "100/100 [==============================] - 13s 131ms/step - loss: 1.5433 - accuracy: 0.4406 - val_loss: 1.5252 - val_accuracy: 0.4457\n",
            "Epoch 46/100\n",
            "100/100 [==============================] - 14s 140ms/step - loss: 1.5218 - accuracy: 0.4525 - val_loss: 1.5224 - val_accuracy: 0.4472\n",
            "Epoch 47/100\n",
            "100/100 [==============================] - 14s 140ms/step - loss: 1.5326 - accuracy: 0.4512 - val_loss: 1.5763 - val_accuracy: 0.4289\n",
            "Epoch 48/100\n",
            "100/100 [==============================] - 13s 130ms/step - loss: 1.5788 - accuracy: 0.4394 - val_loss: 1.5478 - val_accuracy: 0.4402\n",
            "Epoch 49/100\n",
            "100/100 [==============================] - 13s 130ms/step - loss: 1.5101 - accuracy: 0.4363 - val_loss: 1.5265 - val_accuracy: 0.4407\n",
            "Epoch 50/100\n",
            "100/100 [==============================] - 15s 146ms/step - loss: 1.5593 - accuracy: 0.4419 - val_loss: 1.5037 - val_accuracy: 0.4584\n",
            "Epoch 51/100\n",
            "100/100 [==============================] - 14s 141ms/step - loss: 1.4871 - accuracy: 0.4519 - val_loss: 1.4873 - val_accuracy: 0.4552\n",
            "Epoch 52/100\n",
            "100/100 [==============================] - 16s 166ms/step - loss: 1.5375 - accuracy: 0.4506 - val_loss: 1.4977 - val_accuracy: 0.4540\n",
            "Epoch 53/100\n",
            "100/100 [==============================] - 15s 154ms/step - loss: 1.5441 - accuracy: 0.4400 - val_loss: 1.5128 - val_accuracy: 0.4475\n",
            "Epoch 54/100\n",
            "100/100 [==============================] - 15s 153ms/step - loss: 1.4934 - accuracy: 0.4631 - val_loss: 1.5032 - val_accuracy: 0.4533\n",
            "Epoch 55/100\n",
            "100/100 [==============================] - 17s 171ms/step - loss: 1.4327 - accuracy: 0.4706 - val_loss: 1.4933 - val_accuracy: 0.4617\n",
            "Epoch 56/100\n",
            "100/100 [==============================] - 17s 174ms/step - loss: 1.5412 - accuracy: 0.4475 - val_loss: 1.4941 - val_accuracy: 0.4575\n",
            "Epoch 57/100\n",
            "100/100 [==============================] - 17s 175ms/step - loss: 1.4881 - accuracy: 0.4544 - val_loss: 1.5126 - val_accuracy: 0.4502\n",
            "Epoch 58/100\n",
            "100/100 [==============================] - 16s 164ms/step - loss: 1.4472 - accuracy: 0.4806 - val_loss: 1.5034 - val_accuracy: 0.4551\n",
            "Epoch 59/100\n",
            "100/100 [==============================] - 16s 161ms/step - loss: 1.4930 - accuracy: 0.4563 - val_loss: 1.5188 - val_accuracy: 0.4546\n",
            "Epoch 60/100\n",
            "100/100 [==============================] - 14s 141ms/step - loss: 1.5000 - accuracy: 0.4419 - val_loss: 1.5100 - val_accuracy: 0.4544\n",
            "Epoch 61/100\n",
            "100/100 [==============================] - 14s 140ms/step - loss: 1.4818 - accuracy: 0.4600 - val_loss: 1.4829 - val_accuracy: 0.4603\n",
            "Epoch 62/100\n",
            "100/100 [==============================] - 13s 130ms/step - loss: 1.4883 - accuracy: 0.4681 - val_loss: 1.4697 - val_accuracy: 0.4650\n",
            "Epoch 63/100\n",
            "100/100 [==============================] - 13s 133ms/step - loss: 1.4462 - accuracy: 0.4656 - val_loss: 1.4700 - val_accuracy: 0.4690\n",
            "Epoch 64/100\n",
            "100/100 [==============================] - 13s 130ms/step - loss: 1.5027 - accuracy: 0.4600 - val_loss: 1.4665 - val_accuracy: 0.4703\n",
            "Epoch 65/100\n",
            "100/100 [==============================] - 13s 129ms/step - loss: 1.4993 - accuracy: 0.4631 - val_loss: 1.5024 - val_accuracy: 0.4622\n",
            "Epoch 66/100\n",
            "100/100 [==============================] - 13s 130ms/step - loss: 1.4705 - accuracy: 0.4750 - val_loss: 1.5198 - val_accuracy: 0.4513\n",
            "Epoch 67/100\n",
            "100/100 [==============================] - 14s 140ms/step - loss: 1.5002 - accuracy: 0.4694 - val_loss: 1.4722 - val_accuracy: 0.4702\n",
            "Epoch 68/100\n",
            "100/100 [==============================] - 13s 130ms/step - loss: 1.4785 - accuracy: 0.4688 - val_loss: 1.4719 - val_accuracy: 0.4657\n",
            "Epoch 69/100\n",
            "100/100 [==============================] - 13s 129ms/step - loss: 1.5113 - accuracy: 0.4400 - val_loss: 1.4456 - val_accuracy: 0.4723\n",
            "Epoch 70/100\n",
            "100/100 [==============================] - 13s 130ms/step - loss: 1.4391 - accuracy: 0.4775 - val_loss: 1.4987 - val_accuracy: 0.4538\n",
            "Epoch 71/100\n",
            "100/100 [==============================] - 14s 142ms/step - loss: 1.4469 - accuracy: 0.4837 - val_loss: 1.4706 - val_accuracy: 0.4650\n",
            "Epoch 72/100\n",
            "100/100 [==============================] - 14s 141ms/step - loss: 1.4882 - accuracy: 0.4600 - val_loss: 1.4634 - val_accuracy: 0.4704\n",
            "Epoch 73/100\n",
            "100/100 [==============================] - 13s 130ms/step - loss: 1.4625 - accuracy: 0.4819 - val_loss: 1.4699 - val_accuracy: 0.4680\n",
            "Epoch 74/100\n",
            "100/100 [==============================] - 13s 130ms/step - loss: 1.4466 - accuracy: 0.4819 - val_loss: 1.4709 - val_accuracy: 0.4710\n",
            "Epoch 75/100\n",
            "100/100 [==============================] - 13s 130ms/step - loss: 1.4543 - accuracy: 0.4737 - val_loss: 1.4806 - val_accuracy: 0.4682\n",
            "Epoch 76/100\n",
            "100/100 [==============================] - 14s 143ms/step - loss: 1.4772 - accuracy: 0.4812 - val_loss: 1.4699 - val_accuracy: 0.4762\n",
            "Epoch 77/100\n",
            "100/100 [==============================] - 13s 129ms/step - loss: 1.5087 - accuracy: 0.4563 - val_loss: 1.4441 - val_accuracy: 0.4751\n",
            "Epoch 78/100\n",
            "100/100 [==============================] - 13s 130ms/step - loss: 1.4482 - accuracy: 0.4781 - val_loss: 1.4662 - val_accuracy: 0.4717\n",
            "Epoch 79/100\n",
            "100/100 [==============================] - 14s 140ms/step - loss: 1.4567 - accuracy: 0.4663 - val_loss: 1.4618 - val_accuracy: 0.4733\n",
            "Epoch 80/100\n",
            "100/100 [==============================] - 13s 129ms/step - loss: 1.4644 - accuracy: 0.4606 - val_loss: 1.4428 - val_accuracy: 0.4740\n",
            "Epoch 81/100\n",
            "100/100 [==============================] - 14s 140ms/step - loss: 1.4670 - accuracy: 0.4762 - val_loss: 1.4479 - val_accuracy: 0.4793\n",
            "Epoch 82/100\n",
            "100/100 [==============================] - 13s 130ms/step - loss: 1.4685 - accuracy: 0.4631 - val_loss: 1.4520 - val_accuracy: 0.4754\n",
            "Epoch 83/100\n",
            "100/100 [==============================] - 13s 129ms/step - loss: 1.4279 - accuracy: 0.4781 - val_loss: 1.4369 - val_accuracy: 0.4827\n",
            "Epoch 84/100\n",
            "100/100 [==============================] - 13s 130ms/step - loss: 1.4206 - accuracy: 0.4975 - val_loss: 1.4340 - val_accuracy: 0.4786\n",
            "Epoch 85/100\n",
            "100/100 [==============================] - 13s 128ms/step - loss: 1.4406 - accuracy: 0.4756 - val_loss: 1.4467 - val_accuracy: 0.4680\n",
            "Epoch 86/100\n",
            "100/100 [==============================] - 13s 129ms/step - loss: 1.3733 - accuracy: 0.5006 - val_loss: 1.4308 - val_accuracy: 0.4863\n",
            "Epoch 87/100\n",
            "100/100 [==============================] - 14s 140ms/step - loss: 1.4237 - accuracy: 0.4869 - val_loss: 1.4418 - val_accuracy: 0.4753\n",
            "Epoch 88/100\n",
            "100/100 [==============================] - 14s 141ms/step - loss: 1.4522 - accuracy: 0.4694 - val_loss: 1.4623 - val_accuracy: 0.4729\n",
            "Epoch 89/100\n",
            "100/100 [==============================] - 13s 129ms/step - loss: 1.4363 - accuracy: 0.4644 - val_loss: 1.4399 - val_accuracy: 0.4874\n",
            "Epoch 90/100\n",
            "100/100 [==============================] - 13s 129ms/step - loss: 1.4261 - accuracy: 0.4981 - val_loss: 1.4302 - val_accuracy: 0.4783\n",
            "Epoch 91/100\n",
            "100/100 [==============================] - 13s 131ms/step - loss: 1.4700 - accuracy: 0.4500 - val_loss: 1.4257 - val_accuracy: 0.4821\n",
            "Epoch 92/100\n",
            "100/100 [==============================] - 15s 147ms/step - loss: 1.4149 - accuracy: 0.4881 - val_loss: 1.4368 - val_accuracy: 0.4795\n",
            "Epoch 93/100\n",
            "100/100 [==============================] - 14s 137ms/step - loss: 1.4790 - accuracy: 0.4544 - val_loss: 1.4359 - val_accuracy: 0.4785\n",
            "Epoch 94/100\n",
            "100/100 [==============================] - 13s 135ms/step - loss: 1.4365 - accuracy: 0.4794 - val_loss: 1.4571 - val_accuracy: 0.4719\n",
            "Epoch 95/100\n",
            "100/100 [==============================] - 13s 131ms/step - loss: 1.4241 - accuracy: 0.4831 - val_loss: 1.4441 - val_accuracy: 0.4833\n",
            "Epoch 96/100\n",
            "100/100 [==============================] - 13s 132ms/step - loss: 1.4176 - accuracy: 0.5013 - val_loss: 1.4544 - val_accuracy: 0.4795\n",
            "Epoch 97/100\n",
            "100/100 [==============================] - 13s 132ms/step - loss: 1.3844 - accuracy: 0.5194 - val_loss: 1.4891 - val_accuracy: 0.4664\n",
            "Epoch 98/100\n",
            "100/100 [==============================] - 13s 132ms/step - loss: 1.4349 - accuracy: 0.4881 - val_loss: 1.4050 - val_accuracy: 0.4924\n",
            "Epoch 99/100\n",
            "100/100 [==============================] - 13s 133ms/step - loss: 1.4118 - accuracy: 0.4863 - val_loss: 1.4317 - val_accuracy: 0.4867\n",
            "Epoch 100/100\n",
            "100/100 [==============================] - 13s 134ms/step - loss: 1.4340 - accuracy: 0.4819 - val_loss: 1.4425 - val_accuracy: 0.4789\n"
          ]
        },
        {
          "output_type": "execute_result",
          "data": {
            "text/plain": [
              "<keras.callbacks.History at 0x7f6ae31937d0>"
            ]
          },
          "metadata": {},
          "execution_count": 11
        }
      ]
    },
    {
      "cell_type": "markdown",
      "metadata": {
        "id": "wuYwBa-AKsV3"
      },
      "source": [
        "**3. Evaluación del modelo**"
      ]
    },
    {
      "cell_type": "code",
      "source": [
        "# grafica\n",
        "loss = rnc.history.history['loss']\n",
        "val_loss = rnc.history.history['val_loss']\n",
        "epochs = range(1, len(loss) + 1)\n",
        "plt.plot(epochs, loss, 'b', label='Training loss')\n",
        "plt.plot(epochs, val_loss, 'r', label='Validation loss')\n",
        "plt.title('Training & Validation loss')\n",
        "plt.xlabel('Epochs')\n",
        "plt.ylabel('Loss')\n",
        "plt.legend()\n",
        "plt.show()\n"
      ],
      "metadata": {
        "colab": {
          "base_uri": "https://localhost:8080/",
          "height": 295
        },
        "id": "vwI-pYVOex4O",
        "outputId": "77f28559-dc25-414e-e898-0754bd37772f"
      },
      "execution_count": null,
      "outputs": [
        {
          "output_type": "display_data",
          "data": {
            "text/plain": [
              "<Figure size 432x288 with 1 Axes>"
            ],
            "image/png": "[encoded data removed]"
          },
          "metadata": {
            "needs_background": "light"
          }
        }
      ]
    }
  ],
  "metadata": {
    "colab": {
      "name": "RNC con tensorflow.ipynb",
      "provenance": [],
      "collapsed_sections": []
    },
    "kernelspec": {
      "display_name": "Python 3",
      "name": "python3"
    },
    "language_info": {
      "name": "python"
    }
  },
  "nbformat": 4,
  "nbformat_minor": 0
}